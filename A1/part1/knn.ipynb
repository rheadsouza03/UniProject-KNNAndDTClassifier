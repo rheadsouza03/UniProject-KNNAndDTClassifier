{
 "cells": [
  {
   "cell_type": "code",
   "execution_count": 1,
   "metadata": {
    "ExecuteTime": {
     "end_time": "2024-03-13T00:38:00.667714Z",
     "start_time": "2024-03-13T00:38:00.660747Z"
    }
   },
   "outputs": [],
   "source": [
    "#Imports\n",
    "import numpy as np\n",
    "import pandas as pd\n",
    "import argparse as ap"
   ]
  },
  {
   "cell_type": "code",
   "execution_count": 2,
   "metadata": {
    "ExecuteTime": {
     "end_time": "2024-03-13T00:38:00.678652Z",
     "start_time": "2024-03-13T00:38:00.672979Z"
    }
   },
   "outputs": [],
   "source": [
    "class KNNClassifier:\n",
    "    def __init__(self, k):\n",
    "        self.k = k\n",
    "\n",
    "    def euclidean(self, point, data):\n",
    "        return np.sqrt(np.sum((data - point) ** 2, axis=1))\n",
    "\n",
    "    def fit(self, X_train, y_train):\n",
    "        self.X_train = np.array(X_train)\n",
    "        self.y_train = np.array(y_train)\n",
    "        return self\n",
    "\n",
    "    def predict(self, X_test):\n",
    "        X_test = np.array(X_test)\n",
    "        predictions = []\n",
    "        distances = []\n",
    "        for x in X_test:\n",
    "            dist = self.euclidean(x, self.X_train)\n",
    "            # Sort distances and get indices of k nearest neighbors\n",
    "            nearest_indices = np.argsort(dist)[:self.k]\n",
    "            # Retrieve labels of k nearest neighbors\n",
    "            nearest_labels = self.y_train[nearest_indices]\n",
    "            # Predict the class based on the majority vote\n",
    "            prediction = np.argmax(np.bincount(nearest_labels))\n",
    "            predictions.append(prediction)\n",
    "            # Append distances of k nearest neighbors\n",
    "            distances.append(dist[nearest_indices])\n",
    "        return predictions, distances"
   ]
  },
  {
   "cell_type": "code",
   "execution_count": 3,
   "metadata": {
    "ExecuteTime": {
     "end_time": "2024-03-13T00:38:00.683325Z",
     "start_time": "2024-03-13T00:38:00.680310Z"
    },
    "collapsed": false
   },
   "outputs": [],
   "source": [
    "def parse_arguments():\n",
    "    parser = ap.ArgumentParser(description='KNN Classification')\n",
    "\n",
    "    # Creating arguments types to access the information that is\n",
    "    parser.add_argument('train_file', type=str, help='File name for training data')\n",
    "    parser.add_argument('test_file', type=str, help='File name for test data')\n",
    "    parser.add_argument('out_file', type=str, help='File name for the data output')\n",
    "    parser.add_argument('k', type=int, help='Number of neighbours')\n",
    "\n",
    "    return parser.parse_args()"
   ]
  },
  {
   "cell_type": "code",
   "execution_count": 4,
   "metadata": {
    "ExecuteTime": {
     "end_time": "2024-03-13T00:38:00.694772Z",
     "start_time": "2024-03-13T00:38:00.684568Z"
    }
   },
   "outputs": [],
   "source": [
    "# Train Data\n",
    "train = pd.read_csv('data_part1/wine_train.csv')\n",
    "X_train = train.drop(columns='class')\n",
    "y_train = train['class']"
   ]
  },
  {
   "cell_type": "code",
   "execution_count": 5,
   "metadata": {
    "ExecuteTime": {
     "end_time": "2024-03-13T00:38:00.702183Z",
     "start_time": "2024-03-13T00:38:00.696347Z"
    }
   },
   "outputs": [],
   "source": [
    "#Test Data\n",
    "test = pd.read_csv('data_part1/wine_test.csv')\n",
    "X_test = test.drop(columns='class')\n",
    "y_test = test['class']"
   ]
  },
  {
   "cell_type": "code",
   "execution_count": 6,
   "metadata": {
    "ExecuteTime": {
     "end_time": "2024-03-13T00:38:00.711127Z",
     "start_time": "2024-03-13T00:38:00.704596Z"
    }
   },
   "outputs": [],
   "source": [
    "# Min-Max Normalisation\n",
    "def min_max_normalisation(train_data, test_data):\n",
    "    minimum = train_data.min(axis=0)\n",
    "    maximum = train_data.max(axis=0)\n",
    "    \n",
    "    X_train = (train_data - minimum)/(maximum - minimum)\n",
    "    X_test = (test_data - minimum)/(maximum - minimum)\n",
    "    return X_train, X_test\n",
    "\n",
    "X_train_scaled, X_test_scaled = min_max_normalisation(X_train, X_test) ##Custom/Manual method\n",
    "# print(X_train_scaled.head())\n",
    "# print(X_test_scaled.head())\n"
   ]
  },
  {
   "cell_type": "code",
   "execution_count": 7,
   "metadata": {
    "ExecuteTime": {
     "end_time": "2024-03-13T00:38:00.720932Z",
     "start_time": "2024-03-13T00:38:00.712451Z"
    }
   },
   "outputs": [],
   "source": [
    "k = 3\n",
    "knn = KNNClassifier(k).fit(X_train_scaled, y_train)\n",
    "y_pred_train, distances_train = knn.predict(X_train_scaled)\n",
    "y_pred_test, distances_test = knn.predict(X_test_scaled)\n",
    "# print(f'Train Distances: {distances_train}\\n\\n')\n",
    "# print(f'Test Distances: {distances_test}')"
   ]
  },
  {
   "cell_type": "code",
   "execution_count": 8,
   "metadata": {
    "ExecuteTime": {
     "end_time": "2024-03-13T00:38:00.727320Z",
     "start_time": "2024-03-13T00:38:00.722264Z"
    }
   },
   "outputs": [],
   "source": [
    "def accuracy_calculation(y_test, predictions, num_classes=None):\n",
    "    # Calculate accuracy\n",
    "    accuracy = np.mean(y_test == predictions)\n",
    "\n",
    "    # If num_classes is not provided, infer it from y_test and predictions\n",
    "    if num_classes is None:\n",
    "        num_classes = max(np.max(y_test), np.max(predictions))\n",
    "\n",
    "    # Initialize dictionaries to store counts of true positives, and total samples for each class\n",
    "    class_counts = {class_label: {\"true_positives\": 0, \"total\": 0} for class_label in range(1, num_classes + 1)}\n",
    "\n",
    "    # Loop through the test data and update counts for each class\n",
    "    for true_label, pred_label in zip(y_test, predictions):\n",
    "        if true_label == pred_label:\n",
    "            class_counts[true_label][\"true_positives\"] += 1\n",
    "        class_counts[true_label][\"total\"] += 1\n",
    "\n",
    "    class_accuracy = {}\n",
    "    # Calculate and print accuracy for each class\n",
    "    for class_label, counts in class_counts.items():\n",
    "        accuracy_for_class = counts[\"true_positives\"] / counts[\"total\"] if counts[\"total\"] > 0 else 0\n",
    "        class_accuracy[class_label] = accuracy_for_class\n",
    "\n",
    "    return accuracy, class_accuracy"
   ]
  },
  {
   "cell_type": "code",
   "execution_count": 9,
   "metadata": {
    "ExecuteTime": {
     "end_time": "2024-03-13T00:38:00.732556Z",
     "start_time": "2024-03-13T00:38:00.728414Z"
    }
   },
   "outputs": [
    {
     "name": "stdout",
     "output_type": "stream",
     "text": [
      "Overall Training Accuracy: 97.89%\n",
      "Class Accuracies: {1: 1.0, 2: 0.9473684210526315, 3: 1.0}\n",
      "Overall Testing Accuracy: 94.44%\n",
      "Class Accuracies: {1: 1.0, 2: 0.8571428571428571, 3: 1.0}\n"
     ]
    }
   ],
   "source": [
    "# Get accuracy\n",
    "total_accuracy_train, class_accuracy_train = accuracy_calculation(y_train, y_pred_train)\n",
    "total_accuracy_test, class_accuracy_test = accuracy_calculation(y_test, y_pred_test)\n",
    "print(f'Overall Training Accuracy: {total_accuracy_train * 100:.2f}%\\nClass Accuracies: {class_accuracy_train}')\n",
    "print(f'Overall Testing Accuracy: {total_accuracy_test*100:.2f}%\\nClass Accuracies: {class_accuracy_test}')"
   ]
  }
 ],
 "metadata": {
  "kernelspec": {
   "display_name": "torch-nightly",
   "language": "python",
   "name": "python3"
  },
  "language_info": {
   "codemirror_mode": {
    "name": "ipython",
    "version": 3
   },
   "file_extension": ".py",
   "mimetype": "text/x-python",
   "name": "python",
   "nbconvert_exporter": "python",
   "pygments_lexer": "ipython3",
   "version": "3.11.7"
  }
 },
 "nbformat": 4,
 "nbformat_minor": 2
}
